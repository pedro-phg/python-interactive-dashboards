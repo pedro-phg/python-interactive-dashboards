{
 "cells": [
  {
   "cell_type": "markdown",
   "metadata": {},
   "source": [
    "# Overview of the Dash"
   ]
  },
  {
   "cell_type": "markdown",
   "metadata": {},
   "source": [
    "In this part, we'll get an overview of *Dash's ecosystem* and focus on building the layout, the most important parte for the users. By the end of the chapter, we'll be able to build a running app with almost any visual component yo want, but without interactivity."
   ]
  },
  {
   "cell_type": "markdown",
   "metadata": {},
   "source": [
    "# 1. Understanding the general structure of a Dash App"
   ]
  },
  {
   "cell_type": "markdown",
   "metadata": {},
   "source": [
    "The following diagram shows what generally goes into creating a Dash app. We typically have a file called *app.py*, although you can name it whatever you want."
   ]
  },
  {
   "cell_type": "markdown",
   "metadata": {},
   "source": [
    "### a. Imports\n",
    "\n",
    "Like any Python module, we begin by importing the required packages."
   ]
  },
  {
   "cell_type": "code",
   "execution_count": 2,
   "metadata": {},
   "outputs": [],
   "source": [
    "import dash\n",
    "from dash import html, dcc"
   ]
  },
  {
   "cell_type": "markdown",
   "metadata": {},
   "source": [
    "### b. App Instantiation \n",
    "\n",
    "A straightforward way to create the application is set the *app* variable. The *__name__* parameter is used to make it easy for Dash to locate static assets to be used in the app."
   ]
  },
  {
   "cell_type": "code",
   "execution_count": 4,
   "metadata": {},
   "outputs": [],
   "source": [
    "app = dash.Dash(__name__)"
   ]
  },
  {
   "cell_type": "markdown",
   "metadata": {},
   "source": [
    "### c. App Layout\n",
    "\n",
    "It's a list of HTML and/or interactive components. Basically is where we set the *frontend*. We usually define a container element, **html.Div** in the figure, that takes a *list* of components for its *children* parameter. This components will be displayed in order when the app renders, each placed below the previous element."
   ]
  },
  {
   "cell_type": "code",
   "execution_count": 5,
   "metadata": {},
   "outputs": [],
   "source": [
    "app.layout = html.Div([\n",
    "    dcc.Dropdown(),\n",
    "    dcc.Graph(),\n",
    "    ...\n",
    "])"
   ]
  },
  {
   "cell_type": "markdown",
   "metadata": {},
   "source": [
    "### d. Callback functions\n",
    "\n",
    "This is where the interactivity happens. It's where we define as many functions as needed to link the visible elementos of the app to each other, defining the functionality that we want. "
   ]
  },
  {
   "cell_type": "markdown",
   "metadata": {},
   "source": [
    "@app.callback()\n",
    "...\n",
    "@app.callback\n",
    "..."
   ]
  },
  {
   "cell_type": "markdown",
   "metadata": {},
   "source": [
    "### e. Running the app\n",
    "\n",
    "Using the Python idiom for running modules as scripts, we run the app."
   ]
  },
  {
   "cell_type": "code",
   "execution_count": null,
   "metadata": {},
   "outputs": [],
   "source": [
    "if __name__ == ('__main__'):\n",
    "    app.run_server(debug = True)"
   ]
  }
 ],
 "metadata": {
  "kernelspec": {
   "display_name": "Python 3.11.0 ('envdash': venv)",
   "language": "python",
   "name": "python3"
  },
  "language_info": {
   "codemirror_mode": {
    "name": "ipython",
    "version": 3
   },
   "file_extension": ".py",
   "mimetype": "text/x-python",
   "name": "python",
   "nbconvert_exporter": "python",
   "pygments_lexer": "ipython3",
   "version": "3.11.0"
  },
  "orig_nbformat": 4,
  "vscode": {
   "interpreter": {
    "hash": "e1889d204e6aef19ec18363745dccee068264a8591225a108327c3115f6fd7d3"
   }
  }
 },
 "nbformat": 4,
 "nbformat_minor": 2
}

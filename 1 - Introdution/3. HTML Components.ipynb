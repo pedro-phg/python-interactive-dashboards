{
 "cells": [
  {
   "cell_type": "markdown",
   "metadata": {},
   "source": [
    "# HTML Components\n",
    "\n",
    "For this part, we'll mainly be focusing on the *app.layout* attribute of our app and making changes to it. It's simple to do; we simply add elements to the top-level *html.Div* through the **children** parameter."
   ]
  },
  {
   "cell_type": "markdown",
   "metadata": {},
   "source": [
    "html.Div([\n",
    "    children = [component1, component2, component3, component3]\n",
    "])"
   ]
  },
  {
   "cell_type": "markdown",
   "metadata": {},
   "source": [
    "Let's go over some of the most important parameters that we'll frequently be using:\n",
    "\n",
    "* children: This is typically the main (and first) container of the content of the component. It can take a list of items, or a single item.\n",
    "* className: This is the same as the *class* attribute.\n",
    "* Id: For now this isn't important for Us. However, it's crucial one in making interactivity work, and we will be using it extensively while building the app. So, it's important set ID's for ours components during the app building.\n",
    "* style: This is similar to the HTML attribute of the same name, but with few differences. First, its attributes are using camelCase"
   ]
  }
 ],
 "metadata": {
  "kernelspec": {
   "display_name": "Python 3.11.0 ('envdash': venv)",
   "language": "python",
   "name": "python3"
  },
  "language_info": {
   "name": "python",
   "version": "3.11.0"
  },
  "orig_nbformat": 4,
  "vscode": {
   "interpreter": {
    "hash": "e1889d204e6aef19ec18363745dccee068264a8591225a108327c3115f6fd7d3"
   }
  }
 },
 "nbformat": 4,
 "nbformat_minor": 2
}
